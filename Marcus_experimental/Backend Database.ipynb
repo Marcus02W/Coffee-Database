{
 "cells": [
  {
   "cell_type": "code",
   "execution_count": 2,
   "metadata": {},
   "outputs": [],
   "source": [
    "import psycopg2\n",
    "import pandas as pd"
   ]
  },
  {
   "cell_type": "code",
   "execution_count": 4,
   "metadata": {},
   "outputs": [],
   "source": [
    "# Verbindungszeichenfolge erstellen\n",
    "conn = psycopg2.connect(\n",
    "    host=\"localhost\",\n",
    "    database=\"coffee_db\",\n",
    "    user=\"postgres\",\n",
    "    password=\"placeholder\"\n",
    ")"
   ]
  },
  {
   "cell_type": "code",
   "execution_count": 10,
   "metadata": {},
   "outputs": [],
   "source": [
    "sql_query = \"SELECT * FROM customer_login WHERE customer_login.customer_id='\"+\"1\"+\"' AND customer_login.customer_password='\" + \"123\" + \"'\"\n",
    "login_data = pd.read_sql_query(sql_query, conn)"
   ]
  },
  {
   "cell_type": "code",
   "execution_count": 11,
   "metadata": {},
   "outputs": [
    {
     "data": {
      "text/html": [
       "<div>\n",
       "<style scoped>\n",
       "    .dataframe tbody tr th:only-of-type {\n",
       "        vertical-align: middle;\n",
       "    }\n",
       "\n",
       "    .dataframe tbody tr th {\n",
       "        vertical-align: top;\n",
       "    }\n",
       "\n",
       "    .dataframe thead th {\n",
       "        text-align: right;\n",
       "    }\n",
       "</style>\n",
       "<table border=\"1\" class=\"dataframe\">\n",
       "  <thead>\n",
       "    <tr style=\"text-align: right;\">\n",
       "      <th></th>\n",
       "      <th>customer_id</th>\n",
       "      <th>customer_password</th>\n",
       "    </tr>\n",
       "  </thead>\n",
       "  <tbody>\n",
       "    <tr>\n",
       "      <th>0</th>\n",
       "      <td>1</td>\n",
       "      <td>123</td>\n",
       "    </tr>\n",
       "  </tbody>\n",
       "</table>\n",
       "</div>"
      ],
      "text/plain": [
       "   customer_id customer_password\n",
       "0            1               123"
      ]
     },
     "execution_count": 11,
     "metadata": {},
     "output_type": "execute_result"
    }
   ],
   "source": [
    "login_data"
   ]
  },
  {
   "cell_type": "code",
   "execution_count": 3,
   "metadata": {},
   "outputs": [
    {
     "name": "stderr",
     "output_type": "stream",
     "text": [
      "C:\\Users\\a829727\\AppData\\Local\\Temp\\ipykernel_7968\\1897384834.py:2: UserWarning: pandas only supports SQLAlchemy connectable (engine/connection) or database string URI or sqlite3 DBAPI2 connection. Other DBAPI2 objects are not tested. Please consider using SQLAlchemy.\n",
      "  df = pd.read_sql_query(sql, conn)\n"
     ]
    }
   ],
   "source": [
    "sql= \"SELECT * FROM coffee_shops;\"\n",
    "df = pd.read_sql_query(sql, conn)\n",
    "conn.close()"
   ]
  },
  {
   "cell_type": "code",
   "execution_count": 4,
   "metadata": {},
   "outputs": [
    {
     "data": {
      "text/html": [
       "<div>\n",
       "<style scoped>\n",
       "    .dataframe tbody tr th:only-of-type {\n",
       "        vertical-align: middle;\n",
       "    }\n",
       "\n",
       "    .dataframe tbody tr th {\n",
       "        vertical-align: top;\n",
       "    }\n",
       "\n",
       "    .dataframe thead th {\n",
       "        text-align: right;\n",
       "    }\n",
       "</style>\n",
       "<table border=\"1\" class=\"dataframe\">\n",
       "  <thead>\n",
       "    <tr style=\"text-align: right;\">\n",
       "      <th></th>\n",
       "      <th>shop_id</th>\n",
       "      <th>name</th>\n",
       "      <th>city</th>\n",
       "      <th>adress</th>\n",
       "      <th>owner_firstname</th>\n",
       "      <th>owner_lastname</th>\n",
       "    </tr>\n",
       "  </thead>\n",
       "  <tbody>\n",
       "    <tr>\n",
       "      <th>0</th>\n",
       "      <td>1</td>\n",
       "      <td>The Daily Grind</td>\n",
       "      <td>New York</td>\n",
       "      <td>1 Main St</td>\n",
       "      <td>John</td>\n",
       "      <td>Doe</td>\n",
       "    </tr>\n",
       "    <tr>\n",
       "      <th>1</th>\n",
       "      <td>2</td>\n",
       "      <td>Espresso Yourself</td>\n",
       "      <td>San Francisco</td>\n",
       "      <td>2 Main St</td>\n",
       "      <td>John</td>\n",
       "      <td>Doe</td>\n",
       "    </tr>\n",
       "    <tr>\n",
       "      <th>2</th>\n",
       "      <td>3</td>\n",
       "      <td>Brew-tique</td>\n",
       "      <td>Paris</td>\n",
       "      <td>3 Main St</td>\n",
       "      <td>John</td>\n",
       "      <td>Doe</td>\n",
       "    </tr>\n",
       "    <tr>\n",
       "      <th>3</th>\n",
       "      <td>4</td>\n",
       "      <td>The Bean Scene</td>\n",
       "      <td>London</td>\n",
       "      <td>4 Main St</td>\n",
       "      <td>John</td>\n",
       "      <td>Doe</td>\n",
       "    </tr>\n",
       "    <tr>\n",
       "      <th>4</th>\n",
       "      <td>5</td>\n",
       "      <td>Cuppa Joe's</td>\n",
       "      <td>Tokyo</td>\n",
       "      <td>5 Main St</td>\n",
       "      <td>John</td>\n",
       "      <td>Doe</td>\n",
       "    </tr>\n",
       "  </tbody>\n",
       "</table>\n",
       "</div>"
      ],
      "text/plain": [
       "   shop_id               name           city     adress owner_firstname  \\\n",
       "0        1    The Daily Grind       New York  1 Main St            John   \n",
       "1        2  Espresso Yourself  San Francisco  2 Main St            John   \n",
       "2        3         Brew-tique          Paris  3 Main St            John   \n",
       "3        4     The Bean Scene         London  4 Main St            John   \n",
       "4        5        Cuppa Joe's          Tokyo  5 Main St            John   \n",
       "\n",
       "  owner_lastname  \n",
       "0            Doe  \n",
       "1            Doe  \n",
       "2            Doe  \n",
       "3            Doe  \n",
       "4            Doe  "
      ]
     },
     "execution_count": 4,
     "metadata": {},
     "output_type": "execute_result"
    }
   ],
   "source": [
    "df"
   ]
  },
  {
   "cell_type": "code",
   "execution_count": 5,
   "metadata": {},
   "outputs": [],
   "source": [
    "html_df=df.to_html()"
   ]
  },
  {
   "cell_type": "code",
   "execution_count": 6,
   "metadata": {},
   "outputs": [
    {
     "data": {
      "text/plain": [
       "'<table border=\"1\" class=\"dataframe\">\\n  <thead>\\n    <tr style=\"text-align: right;\">\\n      <th></th>\\n      <th>shop_id</th>\\n      <th>name</th>\\n      <th>city</th>\\n      <th>adress</th>\\n      <th>owner_firstname</th>\\n      <th>owner_lastname</th>\\n    </tr>\\n  </thead>\\n  <tbody>\\n    <tr>\\n      <th>0</th>\\n      <td>1</td>\\n      <td>The Daily Grind</td>\\n      <td>New York</td>\\n      <td>1 Main St</td>\\n      <td>John</td>\\n      <td>Doe</td>\\n    </tr>\\n    <tr>\\n      <th>1</th>\\n      <td>2</td>\\n      <td>Espresso Yourself</td>\\n      <td>San Francisco</td>\\n      <td>2 Main St</td>\\n      <td>John</td>\\n      <td>Doe</td>\\n    </tr>\\n    <tr>\\n      <th>2</th>\\n      <td>3</td>\\n      <td>Brew-tique</td>\\n      <td>Paris</td>\\n      <td>3 Main St</td>\\n      <td>John</td>\\n      <td>Doe</td>\\n    </tr>\\n    <tr>\\n      <th>3</th>\\n      <td>4</td>\\n      <td>The Bean Scene</td>\\n      <td>London</td>\\n      <td>4 Main St</td>\\n      <td>John</td>\\n      <td>Doe</td>\\n    </tr>\\n    <tr>\\n      <th>4</th>\\n      <td>5</td>\\n      <td>Cuppa Joe\\'s</td>\\n      <td>Tokyo</td>\\n      <td>5 Main St</td>\\n      <td>John</td>\\n      <td>Doe</td>\\n    </tr>\\n  </tbody>\\n</table>'"
      ]
     },
     "execution_count": 6,
     "metadata": {},
     "output_type": "execute_result"
    }
   ],
   "source": [
    "html_df"
   ]
  },
  {
   "cell_type": "code",
   "execution_count": 7,
   "metadata": {},
   "outputs": [
    {
     "data": {
      "text/plain": [
       "'# Cursor erstellen\\ncur = conn.cursor()\\n\\n# Abfrage ausführen\\ncur.execute(\"SELECT * FROM coffee_shops;\")\\n'"
      ]
     },
     "execution_count": 7,
     "metadata": {},
     "output_type": "execute_result"
    }
   ],
   "source": [
    "\"\"\"# Cursor erstellen\n",
    "cur = conn.cursor()\n",
    "\n",
    "# Abfrage ausführen\n",
    "cur.execute(\"SELECT * FROM coffee_shops;\")\n",
    "\"\"\"\n"
   ]
  },
  {
   "cell_type": "code",
   "execution_count": 8,
   "metadata": {},
   "outputs": [
    {
     "data": {
      "text/plain": [
       "'# Ergebnisse abrufen\\nrows = cur.fetchall()\\n\\n# Ergebnisse ausgeben\\nfor row in rows:\\n    print(row)'"
      ]
     },
     "execution_count": 8,
     "metadata": {},
     "output_type": "execute_result"
    }
   ],
   "source": [
    "\"\"\"# Ergebnisse abrufen\n",
    "rows = cur.fetchall()\n",
    "\n",
    "# Ergebnisse ausgeben\n",
    "for row in rows:\n",
    "    print(row)\"\"\"\n",
    "\n"
   ]
  },
  {
   "cell_type": "code",
   "execution_count": 9,
   "metadata": {},
   "outputs": [
    {
     "data": {
      "text/plain": [
       "'# Cursor und Verbindung schließen\\ncur.close()\\nconn.close()'"
      ]
     },
     "execution_count": 9,
     "metadata": {},
     "output_type": "execute_result"
    }
   ],
   "source": [
    "\"\"\"# Cursor und Verbindung schließen\n",
    "cur.close()\n",
    "conn.close()\"\"\""
   ]
  },
  {
   "cell_type": "code",
   "execution_count": 10,
   "metadata": {},
   "outputs": [],
   "source": [
    "conn = psycopg2.connect(\n",
    "    host=\"localhost\",\n",
    "    database=\"coffee_db\",\n",
    "    user=\"postgres\",\n",
    "    password=\"x5Tg9%eZu1!\")\n",
    "\n",
    "cursor = conn.cursor()\n",
    "\n",
    "\n",
    "#sql_query = \"INSERT INTO customer_login (customer_id, customer_password) VALUES (\" + str(5) + \",\" + str(6) + \")\"\n",
    "sql_query = \"begin; insert into customers (customer_id, customer_firstname, customer_lastname) values (\" + \"20\" + \",\" + \"Heinz\" + \",\" + \"Müller\" + \"); insert into customer_login (customer_id, customer_password) values (\" + \"20\" + \",\" + \"test\" + \") commit;\"\n",
    "cursor.execute(sql_query)\n",
    "\n",
    "\n"
   ]
  },
  {
   "cell_type": "code",
   "execution_count": 11,
   "metadata": {},
   "outputs": [],
   "source": [
    "customer_data = pd.read_sql_query(sql_query, conn)\n",
    "conn.commit()\n",
    "conn.close()"
   ]
  },
  {
   "cell_type": "code",
   "execution_count": 12,
   "metadata": {},
   "outputs": [
    {
     "data": {
      "text/html": [
       "<div>\n",
       "<style scoped>\n",
       "    .dataframe tbody tr th:only-of-type {\n",
       "        vertical-align: middle;\n",
       "    }\n",
       "\n",
       "    .dataframe tbody tr th {\n",
       "        vertical-align: top;\n",
       "    }\n",
       "\n",
       "    .dataframe thead th {\n",
       "        text-align: right;\n",
       "    }\n",
       "</style>\n",
       "<table border=\"1\" class=\"dataframe\">\n",
       "  <thead>\n",
       "    <tr style=\"text-align: right;\">\n",
       "      <th></th>\n",
       "      <th>customer_id</th>\n",
       "      <th>customer_firstname</th>\n",
       "      <th>customer_lastname</th>\n",
       "    </tr>\n",
       "  </thead>\n",
       "  <tbody>\n",
       "    <tr>\n",
       "      <th>0</th>\n",
       "      <td>1</td>\n",
       "      <td>erster</td>\n",
       "      <td>test</td>\n",
       "    </tr>\n",
       "  </tbody>\n",
       "</table>\n",
       "</div>"
      ],
      "text/plain": [
       "   customer_id customer_firstname customer_lastname\n",
       "0            1             erster              test"
      ]
     },
     "execution_count": 12,
     "metadata": {},
     "output_type": "execute_result"
    }
   ],
   "source": [
    "customer_data"
   ]
  },
  {
   "cell_type": "code",
   "execution_count": null,
   "metadata": {},
   "outputs": [],
   "source": []
  }
 ],
 "metadata": {
  "kernelspec": {
   "display_name": "database",
   "language": "python",
   "name": "python3"
  },
  "language_info": {
   "codemirror_mode": {
    "name": "ipython",
    "version": 3
   },
   "file_extension": ".py",
   "mimetype": "text/x-python",
   "name": "python",
   "nbconvert_exporter": "python",
   "pygments_lexer": "ipython3",
   "version": "3.10.0"
  },
  "orig_nbformat": 4,
  "vscode": {
   "interpreter": {
    "hash": "a8717fb0594b93f645338ad4495bc361aad9a660c5fa068310a3aef504d815f0"
   }
  }
 },
 "nbformat": 4,
 "nbformat_minor": 2
}
